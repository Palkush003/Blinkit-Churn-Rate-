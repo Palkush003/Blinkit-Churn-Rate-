{
  "nbformat": 4,
  "nbformat_minor": 0,
  "metadata": {
    "colab": {
      "provenance": [],
      "authorship_tag": "ABX9TyN1AIYY8uGo61USO2n6n5VI",
      "include_colab_link": true
    },
    "kernelspec": {
      "name": "python3",
      "display_name": "Python 3"
    },
    "language_info": {
      "name": "python"
    }
  },
  "cells": [
    {
      "cell_type": "markdown",
      "metadata": {
        "id": "view-in-github",
        "colab_type": "text"
      },
      "source": [
        "<a href=\"https://colab.research.google.com/github/Palkush003/Blinkit-Churn-Rate-/blob/main/Strategy_Storm.ipynb\" target=\"_parent\"><img src=\"https://colab.research.google.com/assets/colab-badge.svg\" alt=\"Open In Colab\"/></a>"
      ]
    },
    {
      "cell_type": "code",
      "source": [
        "import pandas as pd\n",
        "import matplotlib.pyplot as plt\n",
        "import seaborn as sns\n"
      ],
      "metadata": {
        "id": "n3_akY4C_CvH"
      },
      "execution_count": 4,
      "outputs": []
    },
    {
      "cell_type": "code",
      "execution_count": 9,
      "metadata": {
        "id": "FP-7qEOjskbu"
      },
      "outputs": [],
      "source": [
        "import pandas as pd\n",
        "file_path = '/content/Strategy Storm 2025 - Round 2 dataset - SSDataset.csv.csv'\n",
        "\n",
        "# Load the dataset\n",
        "data = pd.read_csv(file_path)"
      ]
    },
    {
      "cell_type": "code",
      "source": [
        "# Display the first few rows\n",
        "print(data.head())\n",
        "\n",
        "# Check data types and null values\n",
        "print(data.info())\n"
      ],
      "metadata": {
        "colab": {
          "base_uri": "https://localhost:8080/"
        },
        "id": "gaNLgjYctRXT",
        "outputId": "65bd1c72-f62d-4978-88da-7169da534aa7"
      },
      "execution_count": 10,
      "outputs": [
        {
          "output_type": "stream",
          "name": "stdout",
          "text": [
            "   UserID  CustomerAge     Sex  Tenure  ServiceUsageRate  SupportCalls  \\\n",
            "0       1           55    Male      20                24             4   \n",
            "1       2           28    Male      27                30             4   \n",
            "2       3           65  Female      60                17             7   \n",
            "3       4           53    Male      47                16             8   \n",
            "4       5           32    Male      56                 5             7   \n",
            "\n",
            "   BillingDelay  PlanType AgreementDuration  TotalExpenditure  RecentActivity  \\\n",
            "0             6  Standard           Monthly               635              25   \n",
            "1             5   Premium         Quarterly               631              10   \n",
            "2            16   Premium         Quarterly               314               1   \n",
            "3             7   Premium            Annual               527              13   \n",
            "4            15   Premium            Annual               236              25   \n",
            "\n",
            "   Churn  \n",
            "0      0  \n",
            "1      0  \n",
            "2      1  \n",
            "3      0  \n",
            "4      0  \n",
            "<class 'pandas.core.frame.DataFrame'>\n",
            "RangeIndex: 16093 entries, 0 to 16092\n",
            "Data columns (total 12 columns):\n",
            " #   Column             Non-Null Count  Dtype \n",
            "---  ------             --------------  ----- \n",
            " 0   UserID             16093 non-null  int64 \n",
            " 1   CustomerAge        16093 non-null  int64 \n",
            " 2   Sex                16093 non-null  object\n",
            " 3   Tenure             16093 non-null  int64 \n",
            " 4   ServiceUsageRate   16093 non-null  int64 \n",
            " 5   SupportCalls       16093 non-null  int64 \n",
            " 6   BillingDelay       16093 non-null  int64 \n",
            " 7   PlanType           16093 non-null  object\n",
            " 8   AgreementDuration  16093 non-null  object\n",
            " 9   TotalExpenditure   16093 non-null  int64 \n",
            " 10  RecentActivity     16093 non-null  int64 \n",
            " 11  Churn              16093 non-null  int64 \n",
            "dtypes: int64(9), object(3)\n",
            "memory usage: 1.5+ MB\n",
            "None\n"
          ]
        }
      ]
    },
    {
      "cell_type": "code",
      "source": [
        "print(data.describe())\n"
      ],
      "metadata": {
        "colab": {
          "base_uri": "https://localhost:8080/"
        },
        "id": "Gxp5ORY3td6q",
        "outputId": "9cb3309f-d8ea-4553-b18e-60dbd9ca9a7b"
      },
      "execution_count": 11,
      "outputs": [
        {
          "output_type": "stream",
          "name": "stdout",
          "text": [
            "             UserID   CustomerAge        Tenure  ServiceUsageRate  \\\n",
            "count  16093.000000  16093.000000  16093.000000      16093.000000   \n",
            "mean    8047.000000     42.028211     32.110669         15.092835   \n",
            "std     4645.793276     13.852220     17.090305          8.823191   \n",
            "min        1.000000     18.000000      1.000000          1.000000   \n",
            "25%     4024.000000     30.000000     18.000000          7.000000   \n",
            "50%     8047.000000     42.000000     33.000000         15.000000   \n",
            "75%    12070.000000     54.000000     47.000000         23.000000   \n",
            "max    16093.000000     65.000000     60.000000         30.000000   \n",
            "\n",
            "       SupportCalls  BillingDelay  TotalExpenditure  RecentActivity  \\\n",
            "count  16093.000000  16093.000000      16093.000000    16093.000000   \n",
            "mean       5.399615     17.073137        542.270863       15.533462   \n",
            "std        3.118676      8.828506        261.841912        8.668119   \n",
            "min        0.000000      0.000000        100.000000        1.000000   \n",
            "25%        3.000000     10.000000        314.000000        8.000000   \n",
            "50%        6.000000     18.000000        534.000000       16.000000   \n",
            "75%        8.000000     25.000000        772.000000       23.000000   \n",
            "max       10.000000     30.000000       1000.000000       30.000000   \n",
            "\n",
            "              Churn  \n",
            "count  16093.000000  \n",
            "mean       0.473498  \n",
            "std        0.499313  \n",
            "min        0.000000  \n",
            "25%        0.000000  \n",
            "50%        0.000000  \n",
            "75%        1.000000  \n",
            "max        1.000000  \n"
          ]
        }
      ]
    },
    {
      "cell_type": "markdown",
      "source": [
        "Handle Missing Values"
      ],
      "metadata": {
        "id": "mP4NkISbBp0_"
      }
    },
    {
      "cell_type": "code",
      "source": [
        "print(data.isnull().sum())\n"
      ],
      "metadata": {
        "colab": {
          "base_uri": "https://localhost:8080/"
        },
        "id": "4hgjb87PtmHf",
        "outputId": "1a1b9581-fbed-4821-d72f-c4ba02e95af3"
      },
      "execution_count": 12,
      "outputs": [
        {
          "output_type": "stream",
          "name": "stdout",
          "text": [
            "UserID               0\n",
            "CustomerAge          0\n",
            "Sex                  0\n",
            "Tenure               0\n",
            "ServiceUsageRate     0\n",
            "SupportCalls         0\n",
            "BillingDelay         0\n",
            "PlanType             0\n",
            "AgreementDuration    0\n",
            "TotalExpenditure     0\n",
            "RecentActivity       0\n",
            "Churn                0\n",
            "dtype: int64\n"
          ]
        }
      ]
    }
  ]
}